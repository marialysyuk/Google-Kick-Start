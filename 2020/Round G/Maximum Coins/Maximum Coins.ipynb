{
 "cells": [
  {
   "cell_type": "code",
   "execution_count": null,
   "metadata": {},
   "outputs": [],
   "source": [
    "def diagonal_sum(matrix):\n",
    "    length = len(matrix[0])\n",
    "    fin = 0\n",
    "    temp = 0\n",
    "    for j in range(length-1, -1, -1):\n",
    "        i = 0\n",
    "        while i < length and j < length:\n",
    "            temp += matrix[i][j]\n",
    "            i += 1\n",
    "            j += 1 \n",
    "        if temp > fin:\n",
    "            fin = temp\n",
    "        i = 0\n",
    "        temp = 0\n",
    "    for j in range(length-1, -1, -1):\n",
    "        i = 0\n",
    "        while i < length and j < length:\n",
    "            temp += matrix[j][i]\n",
    "            i += 1\n",
    "            j += 1 \n",
    "        if temp > fin:\n",
    "            fin = temp\n",
    "        i = 0\n",
    "        temp = 0\n",
    "    return fin\n",
    "    \n",
    "import sys\n",
    "nums = sys.stdin.readlines()\n",
    "\n",
    "matrix = [[int(num) for num in line.split()] for line in nums]\n",
    "matrix = matrix[1:]\n",
    "i = 0\n",
    "cases = 0\n",
    "while i < len(matrix):\n",
    "    j = matrix[i][0]\n",
    "    temp =[]\n",
    "    for k in range(i+1,i+1+j):\n",
    "        temp.append(matrix[k])\n",
    "    cases += 1\n",
    "    if len(temp) > 1:\n",
    "        print(\"Case #\"+str(cases)+\": \"+str(diagonal_sum(temp)))\n",
    "    else:\n",
    "        print(\"Case #\"+str(cases)+\": \"+str(temp[0][0]))\n",
    "    i += j+1"
   ]
  }
 ],
 "metadata": {
  "kernelspec": {
   "display_name": "Python 3",
   "language": "python",
   "name": "python3"
  },
  "language_info": {
   "codemirror_mode": {
    "name": "ipython",
    "version": 3
   },
   "file_extension": ".py",
   "mimetype": "text/x-python",
   "name": "python",
   "nbconvert_exporter": "python",
   "pygments_lexer": "ipython3",
   "version": "3.7.6"
  }
 },
 "nbformat": 4,
 "nbformat_minor": 4
}
