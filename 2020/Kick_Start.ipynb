{
 "cells": [
  {
   "cell_type": "code",
   "execution_count": null,
   "metadata": {},
   "outputs": [],
   "source": [
    "import sys\n",
    "    \n",
    "def kick_start(test_str):\n",
    "    test_sub = \"KICK\"\n",
    "    test_sub2 = \"START\"\n",
    "    kicks = 0\n",
    "    final = 0\n",
    "    i = 0\n",
    "    while i < len(test_str):\n",
    "        if test_str.startswith(test_sub, i):\n",
    "            kicks +=1\n",
    "            i += 3\n",
    "          \n",
    "        elif test_str.startswith(test_sub2, i):\n",
    "            final += kicks\n",
    "            i += 5\n",
    "  \n",
    "        else: i += 1\n",
    "    \n",
    "    return final\n",
    "    \n",
    "content = sys.stdin.readlines()    \n",
    "content = [x.split() for x in content]\n",
    "content = content[1:]\n",
    "\n",
    "for i in range(len(content)):\n",
    "    print(\"Case #\"+str(i+1)+\": \"+str(kick_start(content[i][0])))"
   ]
  }
 ],
 "metadata": {
  "kernelspec": {
   "display_name": "Python 3",
   "language": "python",
   "name": "python3"
  },
  "language_info": {
   "codemirror_mode": {
    "name": "ipython",
    "version": 3
   },
   "file_extension": ".py",
   "mimetype": "text/x-python",
   "name": "python",
   "nbconvert_exporter": "python",
   "pygments_lexer": "ipython3",
   "version": "3.7.6"
  }
 },
 "nbformat": 4,
 "nbformat_minor": 4
}
